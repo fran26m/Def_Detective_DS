{
 "cells": [
  {
   "cell_type": "code",
   "execution_count": null,
   "metadata": {},
   "outputs": [],
   "source": [
    "import dataclasses\n",
    "from typing import List, Tuple\n",
    "# from geopy import geodesic\n",
    "from datetime import datetime, time\n",
    "@dataclasses.dataclass\n",
    "class Businesses:\n",
    "    name: str\n",
    "    email: str\n",
    "    location: tuple[float, float]\n",
    "    opening_hours: opening_hours\n",
    "@dataclasses.dataclass\n",
    "class LostRequest:\n",
    "    description: str\n",
    "    location: tuple[float,float]\n",
    "    time: datetime\n",
    "    email: str\n",
    "@dataclasses.dataclass\n",
    "class opening_hours:\n",
    "    opening_time: time\n",
    "    closing_time: time\n",
    "    # ?rest_days:\n",
    "def logic(data: List[Businesses], filter_condition: LostRequest) -> List[Businesses]:\n",
    "    #The function which identifies business where a lost item could be found.\n",
    "    possibly_here = []  # stores matches\n",
    "    for business in data:\n",
    "        # Check if the filter_condition description is in the business name or email\n",
    "        if filter_condition.location in business.location or filter_condition.time in business.opening_hours:\n",
    "            possibly_here.append(business)\n",
    "    return possibly_here  # Return the list of matching businesses where lost item might be\n",
    "def test_logic():\n",
    "    tests = [\n",
    "        {\n",
    "            \"input\": {\n",
    "                \"data\": [Businesses(location=[52.5163, 13.3777], name=\"foo\"), Businesses(location=(52.5220,13.4133), name=\"qux\")],\n",
    "                \"filter_condition\": LostRequest(52.5163, 13.3777),\n",
    "            },\n",
    "            #\"want\": [Businesses(email=\"foo@bar.zip\", name=\"foo\")]\n",
    "            \"want\": [Businesses(email=\"foo@bar.zip\", name=\"foo\")]\n",
    "        }\n",
    "    ]\n",
    "    for test in tests:\n",
    "        got = logic(test[\"input\"][\"data\"], test[\"input\"][\"filter_condition\"])\n",
    "        assert got == test[\"want\"]\n",
    "# Call the test function to see if logic works as expected\n",
    "test_logic()"
   ]
  }
 ],
 "metadata": {
  "language_info": {
   "name": "python"
  },
  "orig_nbformat": 4
 },
 "nbformat": 4,
 "nbformat_minor": 2
}
